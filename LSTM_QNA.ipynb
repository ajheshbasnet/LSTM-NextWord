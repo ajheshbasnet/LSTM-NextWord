{
  "nbformat": 4,
  "nbformat_minor": 0,
  "metadata": {
    "colab": {
      "provenance": [],
      "gpuType": "T4"
    },
    "kernelspec": {
      "name": "python3",
      "display_name": "Python 3"
    },
    "language_info": {
      "name": "python"
    },
    "accelerator": "GPU"
  },
  "cells": [
    {
      "cell_type": "markdown",
      "source": [
        "#**IMPORTING LIBRARIES STUFFS**"
      ],
      "metadata": {
        "id": "-vkHq_owWLbS"
      }
    },
    {
      "cell_type": "code",
      "execution_count": 256,
      "metadata": {
        "id": "YJs3gNuOnW8O"
      },
      "outputs": [],
      "source": [
        "import nltk\n",
        "import numpy as np\n",
        "import torch\n",
        "import torch.nn as nn\n",
        "from torch.utils.data import Dataset, DataLoader\n",
        "from collections import Counter\n",
        "from nltk.tokenize import word_tokenize"
      ]
    },
    {
      "cell_type": "markdown",
      "source": [
        "#**WE GONNNA TRAIN OUR MODEL TO PREDICT THE NEXT WORD IN THIS DATA**"
      ],
      "metadata": {
        "id": "m3MQk0wiWUrJ"
      }
    },
    {
      "cell_type": "code",
      "source": [
        "document = \"\"\"Nepal: The Land of the Himalayas\n",
        "Introduction\n",
        "Nepal, officially known as the Federal Democratic Republic of Nepal, is a landlocked country located in South Asia, sharing its borders with China (Tibet Autonomous Region) to the north and India to the south, east, and west. Despite its small geographical size, Nepal is a country of immense diversity, not only in its landscapes but also in its culture, languages, ethnicities, and religions. Globally renowned for being home to Mount Everest (Sagarmatha), the world’s highest peak, Nepal captivates travelers, historians, and spiritual seekers alike.\n",
        "\n",
        "Geography and Climate\n",
        "Nepal stretches approximately 147,516 square kilometers, lying along the southern slopes of the Himalayan mountain ranges. The country is roughly rectangular in shape and can be geographically divided into three distinct regions:\n",
        "\n",
        "Himalayan Region (Northern Belt): Dominated by high mountain ranges, this area includes the world's tallest mountains, including Mount Everest (8,848.86 meters), Kanchenjunga, Lhotse, and many others. The region is sparsely populated due to its harsh climate, with permanent snow and glaciers covering the upper parts.\n",
        "\n",
        "Hilly Region (Central Belt): The mid-hills and valleys, including Kathmandu Valley, dominate this region. It is home to densely populated areas, terraced farms, and beautiful landscapes. The region has a temperate climate and is known for its rich cultural heritage.\n",
        "\n",
        "Terai Region (Southern Belt): The flat, fertile plains bordering India are referred to as the Terai. This region is the agricultural heartland of Nepal and has a subtropical climate.\n",
        "\n",
        "The diversity in altitude within a short distance gives rise to climatic variations ranging from subtropical to alpine, creating a wide range of ecological zones and supporting rich biodiversity. Nepal's rivers, such as the Koshi, Gandaki, and Karnali, which originate from the Himalayas, are important for agriculture, hydroelectricity, and cultural traditions.\n",
        "\n",
        "Historical Background\n",
        "Ancient and Medieval Periods\n",
        "Nepal's history dates back to ancient times, with evidence of civilizations existing as early as the Neolithic period. It is believed that the region was inhabited by Kirats, who were among the earliest settlers.\n",
        "\n",
        "The Lichhavi Dynasty (circa 400–750 CE) is often regarded as a golden era of Nepal’s early history, with the establishment of art, architecture, and trade routes. This was followed by the Malla period (12th to 18th centuries), which saw the flourishing of architecture and culture, particularly in the Kathmandu Valley, as the Malla kings competed to build temples, palaces, and public squares.\n",
        "\n",
        "Unification of Nepal\n",
        "In the mid-18th century, King Prithvi Narayan Shah of the Gorkha Kingdom successfully unified the fragmented kingdoms and principalities, creating the modern nation of Nepal. His vision of Nepal as a “yam between two boulders” (China and India) highlighted the country's delicate geopolitical position.\n",
        "\n",
        "Rana Rule and British Relations\n",
        "From the mid-19th century to the early 20th century, Nepal was under the autocratic rule of the Rana dynasty, who sidelined the monarchy and controlled the country with an iron grip. The Ranas established close ties with British India but kept Nepal isolated from much of the world.\n",
        "\n",
        "Transition to Democracy\n",
        "In 1951, a popular uprising supported by King Tribhuvan ended the Rana regime and ushered in a constitutional monarchy with multi-party democracy. However, this period was marked by political instability.\n",
        "\n",
        "Monarchy to Republic\n",
        "In 1996, Nepal entered a decade-long civil war (Maoist insurgency) aimed at abolishing the monarchy and establishing a people's republic. After years of conflict and subsequent peace agreements, the monarchy was officially abolished in 2008, and Nepal was declared a federal democratic republic.\n",
        "\n",
        "Political Structure\n",
        "Nepal is currently a parliamentary republic with a multi-party system. The country is divided into seven provinces under a federal system. The President is the ceremonial head of state, while executive power lies with the Prime Minister.\n",
        "\n",
        "Nepal’s political landscape has been shaped by a series of constitutional changes, with the most recent Constitution of Nepal promulgated in 2015, marking a significant shift toward federalism and inclusivity. Despite these efforts, Nepal's politics continue to face challenges like frequent government changes, ethnic tensions, and the slow pace of development.\n",
        "\n",
        "Cultural Diversity\n",
        "Nepal is a melting pot of cultures, languages, and religions. Despite its small size, it is home to more than 125 ethnic groups and over 120 languages.\n",
        "\n",
        "Ethnic Groups\n",
        "Some of the major ethnic groups include the Chhetri, Brahmin, Magar, Tharu, Tamang, Newar, Gurung, Rai, Limbu, Sherpa, and Madhesi communities, each contributing uniquely to Nepal’s vibrant cultural fabric.\n",
        "\n",
        "Languages\n",
        "While Nepali is the official and most widely spoken language, many regional languages such as Maithili, Bhojpuri, Tharu, Tamang, and Newar are spoken across the country.\n",
        "\n",
        "Religions\n",
        "Nepal is a secular country but predominantly Hindu, with Hinduism practiced by about 81% of the population. Buddhism holds significant historical and cultural importance, as Nepal is the birthplace of Lord Buddha (Siddhartha Gautama) in Lumbini. Other religions include Islam, Christianity, and indigenous faiths.\n",
        "\n",
        "Festivals\n",
        "Nepal’s festivals are deeply tied to its religious and cultural diversity. Major celebrations include:\n",
        "\n",
        "Dashain: The biggest Hindu festival, celebrating the victory of good over evil.\n",
        "\n",
        "Tihar: Festival of lights, similar to Diwali in India.\n",
        "\n",
        "Holi: Festival of colors.\n",
        "\n",
        "Buddha Jayanti: Birth anniversary of Lord Buddha.\n",
        "\n",
        "Teej: Women's festival of fasting and prayers for marital bliss.\n",
        "\n",
        "Indra Jatra, Gai Jatra, and Bisket Jatra: Popular festivals of the Kathmandu Valley.\n",
        "\n",
        "Economy\n",
        "Nepal is classified as a developing country with a mixed economy. Agriculture has traditionally been the backbone of Nepal’s economy, contributing significantly to GDP and employment.\n",
        "\n",
        "Key Economic Sectors\n",
        "Agriculture: Rice, maize, wheat, and millet are staple crops. Livestock farming is also common.\n",
        "\n",
        "Remittances: One of the largest sources of national income, with millions of Nepalis working abroad, particularly in the Gulf countries, Malaysia, and India.\n",
        "\n",
        "Tourism: Nepal’s natural beauty, trekking routes, cultural heritage sites, and spiritual centers attract tourists worldwide.\n",
        "\n",
        "Hydropower: Nepal has vast potential for hydroelectricity generation, though much of it remains untapped.\n",
        "\n",
        "Small Industries and Handicrafts: Production of pashmina, carpets, metalworks, and wooden crafts.\n",
        "\n",
        "Economic Challenges\n",
        "Nepal’s economy faces numerous hurdles such as political instability, infrastructural limitations, over-reliance on remittances, natural disasters like earthquakes, and trade dependency on neighboring countries.\n",
        "\n",
        "Tourism and Natural Beauty\n",
        "Nepal is a global tourism hotspot known for:\n",
        "\n",
        "Trekking and Mountaineering: Everest Base Camp, Annapurna Circuit, Langtang Valley, and many other trails attract adventure seekers.\n",
        "\n",
        "World Heritage Sites: Kathmandu Valley’s Durbar Squares, Pashupatinath Temple, Swayambhunath (Monkey Temple), Lumbini (birthplace of Buddha), and Chitwan National Park are recognized by UNESCO.\n",
        "\n",
        "Wildlife: The Terai region is rich in biodiversity with species like the Bengal tiger, one-horned rhinoceros, elephants, and gharials.\n",
        "\n",
        "Spiritual Tourism: Many visitors come to Nepal for meditation, yoga retreats, and Buddhist pilgrimages.\n",
        "\n",
        "Despite its immense tourism potential, challenges such as infrastructure gaps, political instability, and environmental concerns pose obstacles to sustainable growth.\n",
        "\n",
        "Education and Healthcare\n",
        "Nepal has made gradual progress in education, with rising literacy rates, especially among the younger generations. However, access to quality education, particularly in rural areas, remains a challenge.\n",
        "\n",
        "In healthcare, Nepal has improved in areas like maternal and child health, but still struggles with the availability of advanced medical facilities in remote regions. Government and non-government organizations are actively working to improve the public health sector.\n",
        "\n",
        "Society and Social Issues\n",
        "Nepalese society is deeply traditional but evolving. Important social issues include:\n",
        "\n",
        "Caste Discrimination: Although legally abolished, caste-based discrimination persists in some rural areas.\n",
        "\n",
        "Gender Inequality: Women's rights have seen improvements, but issues like child marriage, dowry, and domestic violence continue to affect women’s empowerment.\n",
        "\n",
        "Poverty: Although the poverty rate has declined over the years, many Nepalis still live under the poverty line, especially in rural communities.\n",
        "\n",
        "Environmental Issues\n",
        "Nepal is highly vulnerable to climate change impacts, including glacial lake outburst floods, erratic rainfall, landslides, and agricultural disruptions. Deforestation, pollution, and waste management are growing concerns, particularly in urban centers like Kathmandu.\n",
        "\n",
        "However, there are also significant conservation efforts, including national parks, community forestry programs, and international cooperation on environmental sustainability.\n",
        "\n",
        "Conclusion\n",
        "Nepal is a country of incredible diversity and resilience. From the towering peaks of the Himalayas to the vibrant cultural traditions in its cities and villages, Nepal offers a unique blend of natural beauty, ancient history, and rich cultural heritage. While the country faces numerous challenges, including political instability, economic dependency, and environmental risks, the strength of its people, the richness of its traditions, and its potential for sustainable development point toward a hopeful future.\n",
        "\n",
        "Nepal stands not just as a travel destination but as a living example of coexistence among diverse communities, faiths, and traditions. As the nation continues its journey toward stability and growth, its story will undoubtedly inspire generations to come.\n",
        "\n",
        "\n",
        "India: The Cradle of Civilization and Diversity\n",
        "Introduction\n",
        "India, officially known as the Republic of India, is a vast, diverse, and ancient civilization located in South Asia. It is the seventh-largest country in the world by area and the most populous country, having surpassed China in population in 2023. India is known as the land of unity in diversity—a country where hundreds of languages, ethnic groups, religions, and traditions coexist, often interwoven in a remarkable cultural tapestry.\n",
        "\n",
        "The country’s impact on the world spans thousands of years, from the rise of the Indus Valley Civilization and the teachings of the Buddha to its modern emergence as a global economic and technological powerhouse. India’s journey is as complex as it is fascinating, shaped by centuries of conquest, colonization, cultural evolution, and socio-political transformations.\n",
        "\n",
        "Geography and Climate\n",
        "India covers approximately 3.287 million square kilometers, stretching from the Himalayas in the north to the Indian Ocean in the south. It shares its borders with Pakistan, China, Nepal, Bhutan, Bangladesh, and Myanmar, and is flanked by the Arabian Sea to the west, the Bay of Bengal to the east, and the Indian Ocean to the south.\n",
        "\n",
        "Geographical Divisions:\n",
        "India’s geography is highly diverse, typically divided into the following regions:\n",
        "\n",
        "The Northern Mountain Ranges: Home to the Himalayas, the world’s tallest mountain range, providing a natural border and influencing the country’s climate.\n",
        "\n",
        "The Indo-Gangetic Plains: Fertile plains of the Ganges, Brahmaputra, and Indus rivers that are the agricultural heartland.\n",
        "\n",
        "The Thar Desert: A vast arid region in Rajasthan.\n",
        "\n",
        "The Deccan Plateau: A large plateau that occupies much of peninsular India, rich in minerals.\n",
        "\n",
        "The Coastal Regions: Both the eastern and western coasts are lined with cities and ports crucial for trade.\n",
        "\n",
        "The Islands: The Andaman and Nicobar Islands in the Bay of Bengal and the Lakshadweep Islands in the Arabian Sea.\n",
        "\n",
        "Climate:\n",
        "India experiences a wide variety of climates:\n",
        "\n",
        "Tropical in the south\n",
        "\n",
        "Arid in the west\n",
        "\n",
        "Temperate in the northern plains\n",
        "\n",
        "Alpine in the Himalayan regions\n",
        "\n",
        "The country’s climate is heavily influenced by the monsoon system, which brings seasonal rainfall essential for agriculture.\n",
        "\"\"\""
      ],
      "metadata": {
        "id": "YRxdeFYMnhyI"
      },
      "execution_count": 257,
      "outputs": []
    },
    {
      "cell_type": "code",
      "source": [
        "nltk.download('punkt')\n",
        "nltk.download('punkt_tab')"
      ],
      "metadata": {
        "colab": {
          "base_uri": "https://localhost:8080/"
        },
        "id": "rTpSea5Iod_n",
        "outputId": "93f964a8-e2a2-4cc7-9f71-5247e9c26980"
      },
      "execution_count": 258,
      "outputs": [
        {
          "output_type": "stream",
          "name": "stderr",
          "text": [
            "[nltk_data] Downloading package punkt to /root/nltk_data...\n",
            "[nltk_data]   Package punkt is already up-to-date!\n",
            "[nltk_data] Downloading package punkt_tab to /root/nltk_data...\n",
            "[nltk_data]   Package punkt_tab is already up-to-date!\n"
          ]
        },
        {
          "output_type": "execute_result",
          "data": {
            "text/plain": [
              "True"
            ]
          },
          "metadata": {},
          "execution_count": 258
        }
      ]
    },
    {
      "cell_type": "code",
      "source": [
        "# tokenize\n",
        "tokens = word_tokenize(document.lower())"
      ],
      "metadata": {
        "id": "PQe-w20HopGW"
      },
      "execution_count": 259,
      "outputs": []
    },
    {
      "cell_type": "code",
      "source": [
        "# build vocab\n",
        "\n",
        "vocab = {'unk': 0}\n",
        "Counter(tokens) # shows how many times a token is repeated throughout the document\n",
        "\n",
        "unique_tokens = Counter(tokens).keys()  # all the unique tokens"
      ],
      "metadata": {
        "id": "N0aY7Ba9o1RZ"
      },
      "execution_count": 260,
      "outputs": []
    },
    {
      "cell_type": "markdown",
      "source": [
        "#**ASSIGNING ID TO THE EACH TOKEN**"
      ],
      "metadata": {
        "id": "PFwxBGy3Wkwv"
      }
    },
    {
      "cell_type": "code",
      "source": [
        "for id, token in enumerate(unique_tokens):\n",
        "  vocab[token] = id+1"
      ],
      "metadata": {
        "id": "oT8-NFFYpFkG"
      },
      "execution_count": 261,
      "outputs": []
    },
    {
      "cell_type": "code",
      "source": [
        "vocab['nepal']"
      ],
      "metadata": {
        "colab": {
          "base_uri": "https://localhost:8080/"
        },
        "id": "eolRHFLHpeJ9",
        "outputId": "04cd7db3-d39c-4b1b-ed50-ca9146f95370"
      },
      "execution_count": 262,
      "outputs": [
        {
          "output_type": "execute_result",
          "data": {
            "text/plain": [
              "1"
            ]
          },
          "metadata": {},
          "execution_count": 262
        }
      ]
    },
    {
      "cell_type": "code",
      "source": [
        "# extract sentences from data\n",
        "\n",
        "input_sentences = document.split('\\n')"
      ],
      "metadata": {
        "id": "DgaZZpcjqFZ6"
      },
      "execution_count": 263,
      "outputs": []
    },
    {
      "cell_type": "markdown",
      "source": [
        "#**FUNCTION TO CONVERT SENTENCES OF STRING TO LIST OF TOKENS**"
      ],
      "metadata": {
        "id": "EtKKci84tBWX"
      }
    },
    {
      "cell_type": "code",
      "source": [
        "def text_2_indices(text, vocab):\n",
        "\n",
        "  numerical_sentence = []\n",
        "\n",
        "  for item in text:\n",
        "    if item in vocab:\n",
        "      numerical_sentence.append(vocab[item])\n",
        "    else:\n",
        "      numerical_sentence.append(vocab['<unk>'])\n",
        "\n",
        "  return numerical_sentence"
      ],
      "metadata": {
        "id": "rENEYqUbrjmP"
      },
      "execution_count": 264,
      "outputs": []
    },
    {
      "cell_type": "code",
      "source": [
        "sentences_numerical_form = []\n",
        "\n",
        "for sentence in input_sentences:\n",
        "   sentences_numerical_form.append(text_2_indices(word_tokenize(sentence.lower()), vocab))"
      ],
      "metadata": {
        "id": "sgHFu9d-qmZu"
      },
      "execution_count": 265,
      "outputs": []
    },
    {
      "cell_type": "code",
      "source": [
        "sentences_numerical_form[:2]"
      ],
      "metadata": {
        "colab": {
          "base_uri": "https://localhost:8080/"
        },
        "id": "3QbWU6DJs9jc",
        "outputId": "776b117c-f4b7-421b-8298-4272014c93dc"
      },
      "execution_count": 266,
      "outputs": [
        {
          "output_type": "execute_result",
          "data": {
            "text/plain": [
              "[[1, 2, 3, 4, 5, 3, 6], [7]]"
            ]
          },
          "metadata": {},
          "execution_count": 266
        }
      ]
    },
    {
      "cell_type": "code",
      "source": [
        "training_sequence = []\n",
        "\n",
        "for sentence in sentences_numerical_form:\n",
        "\n",
        "  for i in range(1, __builtins__.len(sentence)):\n",
        "    training_sequence.append(sentence[: i+1])"
      ],
      "metadata": {
        "id": "WFp89Qu_toWa"
      },
      "execution_count": 267,
      "outputs": []
    },
    {
      "cell_type": "code",
      "source": [
        "# TO FIND THE MAXIMUM_LENGTH\n",
        "\n",
        "max_L = 0\n",
        "id = 0\n",
        "for sent in training_sequence:\n",
        "  if __builtins__.len(sent) > max_L:\n",
        "    max_L = __builtins__.len(sent)\n",
        "\n",
        "print(max_L)"
      ],
      "metadata": {
        "colab": {
          "base_uri": "https://localhost:8080/"
        },
        "id": "FQbLHcJSu0Xl",
        "outputId": "0e832974-99ce-474b-9acf-49237acdb145"
      },
      "execution_count": 268,
      "outputs": [
        {
          "output_type": "stream",
          "name": "stdout",
          "text": [
            "107\n"
          ]
        }
      ]
    },
    {
      "cell_type": "code",
      "source": [
        "training_sequence[:5]"
      ],
      "metadata": {
        "colab": {
          "base_uri": "https://localhost:8080/"
        },
        "id": "ixuX3u_cuy86",
        "outputId": "01da3af0-87e7-4b07-e59d-406a0f9dc6ac"
      },
      "execution_count": 269,
      "outputs": [
        {
          "output_type": "execute_result",
          "data": {
            "text/plain": [
              "[[1, 2], [1, 2, 3], [1, 2, 3, 4], [1, 2, 3, 4, 5], [1, 2, 3, 4, 5, 3]]"
            ]
          },
          "metadata": {},
          "execution_count": 269
        }
      ]
    },
    {
      "cell_type": "markdown",
      "source": [
        "#**Padding**"
      ],
      "metadata": {
        "id": "Tc2QIAGsxKDE"
      }
    },
    {
      "cell_type": "code",
      "source": [
        "padded_sentences = []\n",
        "\n",
        "for sentence in training_sequence:\n",
        "   padded_sentences.append([0] * (max_L - __builtins__.len(sentence)) + sentence)"
      ],
      "metadata": {
        "id": "Wvmg1FCewt9u"
      },
      "execution_count": 270,
      "outputs": []
    },
    {
      "cell_type": "code",
      "source": [
        "__builtins__.len(padded_sentences[56])"
      ],
      "metadata": {
        "colab": {
          "base_uri": "https://localhost:8080/"
        },
        "id": "awGZeIUtyMLT",
        "outputId": "d78fbb15-4475-41a2-96ce-47131f2231b4"
      },
      "execution_count": 271,
      "outputs": [
        {
          "output_type": "execute_result",
          "data": {
            "text/plain": [
              "107"
            ]
          },
          "metadata": {},
          "execution_count": 271
        }
      ]
    },
    {
      "cell_type": "code",
      "source": [
        "padded_training_sequence = torch.tensor(padded_sentences, dtype = torch.long)"
      ],
      "metadata": {
        "id": "DbH6i7pIztsJ"
      },
      "execution_count": 272,
      "outputs": []
    },
    {
      "cell_type": "code",
      "source": [
        "padded_training_sequence"
      ],
      "metadata": {
        "colab": {
          "base_uri": "https://localhost:8080/"
        },
        "id": "GaUP70j10XVY",
        "outputId": "cf8987fb-7e55-474e-89e2-19f6f5e49083"
      },
      "execution_count": 273,
      "outputs": [
        {
          "output_type": "execute_result",
          "data": {
            "text/plain": [
              "tensor([[  0,   0,   0,  ...,   0,   1,   2],\n",
              "        [  0,   0,   0,  ...,   1,   2,   3],\n",
              "        [  0,   0,   0,  ...,   2,   3,   4],\n",
              "        ...,\n",
              "        [  0,   0,   0,  ..., 642, 776,  57],\n",
              "        [  0,   0,   0,  ..., 776,  57, 181],\n",
              "        [  0,   0,   0,  ...,  57, 181,  39]])"
            ]
          },
          "metadata": {},
          "execution_count": 273
        }
      ]
    },
    {
      "cell_type": "markdown",
      "source": [
        "#**INPUT SENTENCES AND TARGETED WORD**"
      ],
      "metadata": {
        "id": "wLZmNTxk0884"
      }
    },
    {
      "cell_type": "code",
      "source": [
        "X = padded_training_sequence[:, :-1]\n",
        "y = padded_training_sequence[:, -1]"
      ],
      "metadata": {
        "id": "hPHVB4Vu0YyG"
      },
      "execution_count": 274,
      "outputs": []
    },
    {
      "cell_type": "markdown",
      "source": [
        "#**DATASET STUFFS**"
      ],
      "metadata": {
        "id": "3gdOeiacXDPu"
      }
    },
    {
      "cell_type": "code",
      "source": [
        "class CustomDataset(Dataset):\n",
        "\n",
        "  def __init__(self, X, y):\n",
        "    self.X = X\n",
        "    self.y = y\n",
        "\n",
        "  def __len__(self):\n",
        "    return self.X.shape[0]\n",
        "\n",
        "  def __getitem__(self, idx):\n",
        "    return self.X[idx], self.y[idx]"
      ],
      "metadata": {
        "id": "zGMxrn9J0oM2"
      },
      "execution_count": 275,
      "outputs": []
    },
    {
      "cell_type": "code",
      "source": [
        "dataset = CustomDataset(X, y)"
      ],
      "metadata": {
        "id": "7p59jTdD0owE"
      },
      "execution_count": 276,
      "outputs": []
    },
    {
      "cell_type": "code",
      "source": [
        "__builtins__.len(dataset)"
      ],
      "metadata": {
        "colab": {
          "base_uri": "https://localhost:8080/"
        },
        "id": "XKucewzT3-6_",
        "outputId": "4d7752b5-2db9-425c-8558-51ca22ebc71c"
      },
      "execution_count": 277,
      "outputs": [
        {
          "output_type": "execute_result",
          "data": {
            "text/plain": [
              "2048"
            ]
          },
          "metadata": {},
          "execution_count": 277
        }
      ]
    },
    {
      "cell_type": "code",
      "source": [
        "dataset[2]"
      ],
      "metadata": {
        "colab": {
          "base_uri": "https://localhost:8080/"
        },
        "id": "X4waVHp83_0U",
        "outputId": "b0d6b9cb-de88-4695-97c0-8a0305dd1890"
      },
      "execution_count": 278,
      "outputs": [
        {
          "output_type": "execute_result",
          "data": {
            "text/plain": [
              "(tensor([0, 0, 0, 0, 0, 0, 0, 0, 0, 0, 0, 0, 0, 0, 0, 0, 0, 0, 0, 0, 0, 0, 0, 0,\n",
              "         0, 0, 0, 0, 0, 0, 0, 0, 0, 0, 0, 0, 0, 0, 0, 0, 0, 0, 0, 0, 0, 0, 0, 0,\n",
              "         0, 0, 0, 0, 0, 0, 0, 0, 0, 0, 0, 0, 0, 0, 0, 0, 0, 0, 0, 0, 0, 0, 0, 0,\n",
              "         0, 0, 0, 0, 0, 0, 0, 0, 0, 0, 0, 0, 0, 0, 0, 0, 0, 0, 0, 0, 0, 0, 0, 0,\n",
              "         0, 0, 0, 0, 0, 0, 0, 1, 2, 3]),\n",
              " tensor(4))"
            ]
          },
          "metadata": {},
          "execution_count": 278
        }
      ]
    },
    {
      "cell_type": "code",
      "source": [
        "dataloader = DataLoader(dataset, batch_size=32, shuffle=True)"
      ],
      "metadata": {
        "id": "C9WuUPnd4Pmc"
      },
      "execution_count": 279,
      "outputs": []
    },
    {
      "cell_type": "code",
      "source": [
        "for input, output in dataloader:\n",
        "  print(input, output)  # the below one is of one batch which has size of 32\n",
        "  break"
      ],
      "metadata": {
        "colab": {
          "base_uri": "https://localhost:8080/"
        },
        "id": "QPOlQ9An4WsU",
        "outputId": "012f8b02-737f-4184-eac4-3092b38da50d"
      },
      "execution_count": 280,
      "outputs": [
        {
          "output_type": "stream",
          "name": "stdout",
          "text": [
            "tensor([[  0,   0,   0,  ..., 236, 591, 603],\n",
            "        [  0,   0,   0,  ...,   8, 425,  28],\n",
            "        [  0,   0,   0,  ..., 490, 592, 631],\n",
            "        ...,\n",
            "        [  0,   0,   0,  ..., 445,  33, 446],\n",
            "        [  0,   0,   0,  ...,  67,   8,   1],\n",
            "        [  0,   0,   0,  ...,  24, 665,  35]]) tensor([ 39, 420, 272,   2, 457, 278,   3, 120, 571,  65,  16,   3,   8, 132,\n",
            "        183, 691, 107,   8,  16,   8, 724, 491,   1,  18, 421,  60, 128,  36,\n",
            "        156,  20,  68, 666])\n"
          ]
        }
      ]
    },
    {
      "cell_type": "markdown",
      "source": [
        "#**MODEL'S ARCHITECURE**"
      ],
      "metadata": {
        "id": "7ZfSMIqiXHcd"
      }
    },
    {
      "cell_type": "code",
      "source": [
        "class LSTMModel(nn.Module):\n",
        "\n",
        "  def __init__(self, vocab_size):\n",
        "    super().__init__()\n",
        "    self.embedding = nn.Embedding(vocab_size, 128)\n",
        "    self.lstm = nn.LSTM(128, 150, batch_first= True)\n",
        "    self.fc = nn.Linear(150, vocab_size)\n",
        "\n",
        "  def forward(self, x):\n",
        "    embedded = self.embedding(x)\n",
        "    intermediate, (final_hidden, final_cell) = self.lstm(embedded)\n",
        "    output = self.fc(final_hidden.squeeze(0))\n",
        "    return output"
      ],
      "metadata": {
        "id": "dsUdd51F4eX-"
      },
      "execution_count": 281,
      "outputs": []
    },
    {
      "cell_type": "markdown",
      "source": [
        "#**INSTANCE OF THE MODEL**"
      ],
      "metadata": {
        "id": "zLjeZ6hAXLp-"
      }
    },
    {
      "cell_type": "code",
      "source": [
        "model = LSTMModel(__builtins__.len(vocab))"
      ],
      "metadata": {
        "id": "kQmkpi6b8VPW"
      },
      "execution_count": 282,
      "outputs": []
    },
    {
      "cell_type": "code",
      "source": [
        "device = torch.device(\"cuda\" if torch.cuda.is_available() else \"cpu\")\n",
        "model.to(device)"
      ],
      "metadata": {
        "colab": {
          "base_uri": "https://localhost:8080/"
        },
        "id": "M64zbOMX84fG",
        "outputId": "b289c80e-ce46-48ff-ff7c-76cf04d4171d"
      },
      "execution_count": 283,
      "outputs": [
        {
          "output_type": "execute_result",
          "data": {
            "text/plain": [
              "LSTMModel(\n",
              "  (embedding): Embedding(777, 128)\n",
              "  (lstm): LSTM(128, 150, batch_first=True)\n",
              "  (fc): Linear(in_features=150, out_features=777, bias=True)\n",
              ")"
            ]
          },
          "metadata": {},
          "execution_count": 283
        }
      ]
    },
    {
      "cell_type": "markdown",
      "source": [
        "#**SOME USEFULL PARAMS**"
      ],
      "metadata": {
        "id": "Y2CGqFjdXTbW"
      }
    },
    {
      "cell_type": "code",
      "source": [
        "epochs = 100\n",
        "\n",
        "lr = 0.001\n",
        "criterion = nn.CrossEntropyLoss()\n",
        "optimizer = torch.optim.Adam(model.parameters(), lr = lr)"
      ],
      "metadata": {
        "id": "aWuS_Grf9G75"
      },
      "execution_count": 284,
      "outputs": []
    },
    {
      "cell_type": "markdown",
      "source": [
        "#**TRAINING LOOP**"
      ],
      "metadata": {
        "id": "CHSM68CA9YtL"
      }
    },
    {
      "cell_type": "code",
      "source": [
        "step = 10\n",
        "\n",
        "losses_ = []\n",
        "epochs_ = []\n",
        "\n",
        "for epoch in range(epochs):\n",
        "  total_loss = 0\n",
        "\n",
        "  for batch_x, batch_y in dataloader:\n",
        "\n",
        "    batch_x, batch_y = batch_x.to(device), batch_y.to(device)\n",
        "\n",
        "    optimizer.zero_grad()\n",
        "\n",
        "    output = model(batch_x)\n",
        "\n",
        "    loss = criterion(output, batch_y)\n",
        "\n",
        "    loss.backward()\n",
        "\n",
        "    optimizer.step()\n",
        "\n",
        "    total_loss += loss.item()\n",
        "\n",
        "  epochs_.append(epoch+1)\n",
        "  losses_.append(total_loss)\n",
        "\n",
        "  if epoch % step == 0 or epoch == 99:\n",
        "    print(f\"Epoch: {epoch+1}, Loss: {total_loss:.4f}\")"
      ],
      "metadata": {
        "colab": {
          "base_uri": "https://localhost:8080/"
        },
        "id": "daDdltNH9X-E",
        "outputId": "6aabb000-f620-4770-9872-2d25a2354d12"
      },
      "execution_count": 285,
      "outputs": [
        {
          "output_type": "stream",
          "name": "stdout",
          "text": [
            "Epoch: 1, Loss: 396.7164\n",
            "Epoch: 11, Loss: 119.1407\n",
            "Epoch: 21, Loss: 24.4504\n",
            "Epoch: 31, Loss: 9.2344\n",
            "Epoch: 41, Loss: 5.8078\n",
            "Epoch: 51, Loss: 4.6065\n",
            "Epoch: 61, Loss: 4.0210\n",
            "Epoch: 71, Loss: 3.6510\n",
            "Epoch: 81, Loss: 3.3952\n",
            "Epoch: 91, Loss: 3.3120\n",
            "Epoch: 100, Loss: 3.1621\n"
          ]
        }
      ]
    },
    {
      "cell_type": "code",
      "source": [
        "import matplotlib.pyplot as plt\n",
        "\n",
        "plt.plot(epochs_, losses_, label='Training Loss')\n",
        "plt.xlabel('Epoch')\n",
        "plt.ylabel('Loss')\n",
        "plt.title('Training Loss over Epochs')\n",
        "plt.legend()\n",
        "plt.grid(True)\n",
        "plt.show()"
      ],
      "metadata": {
        "colab": {
          "base_uri": "https://localhost:8080/",
          "height": 472
        },
        "id": "sHhzUOj7YaVZ",
        "outputId": "ce92535c-ebe9-4daa-9d23-f9e98c9f1ae6"
      },
      "execution_count": 291,
      "outputs": [
        {
          "output_type": "display_data",
          "data": {
            "text/plain": [
              "<Figure size 640x480 with 1 Axes>"
            ],
            "image/png": "[encoded data removed]"
          },
          "metadata": {}
        }
      ]
    },
    {
      "cell_type": "markdown",
      "source": [
        "#**INFERENCE TIMEEEE**"
      ],
      "metadata": {
        "id": "aPpQtL2C-I0x"
      }
    },
    {
      "cell_type": "code",
      "source": [
        "def prediction(model, sentence, vocab):\n",
        "\n",
        "  # tokenize\n",
        "  tokenized_texts = word_tokenize(sentence.lower())\n",
        "\n",
        "  # text to numerical_indices\n",
        "  numerical_text = text_2_indices(tokenized_texts, vocab)\n",
        "\n",
        "  # padding\n",
        "  after_padded = torch.tensor([0] * (max_L - __builtins__.len(numerical_text)) + numerical_text, dtype = torch.long).unsqueeze(0)  # making it in batch size of 1\n",
        "\n",
        "  # Move the input tensor to the same device as the model\n",
        "  after_padded = after_padded.to(device)\n",
        "\n",
        "  # send to model\n",
        "  output = model(after_padded)\n",
        "\n",
        "\n",
        "  # predicted_idx\n",
        "  value, index = torch.max(output, dim = 1)\n",
        "\n",
        "  # fetch the word via that index\n",
        "  word = list(vocab.keys())[index]\n",
        "\n",
        "  # merge with text\n",
        "  if word == '.' or word == ',':\n",
        "    sentence =  sentence + \"\"  + word\n",
        "\n",
        "  else:\n",
        "    sentence =  sentence + \" \"  + word\n",
        "\n",
        "  return sentence"
      ],
      "metadata": {
        "id": "T64mZz9f9Vwa"
      },
      "execution_count": 292,
      "outputs": []
    },
    {
      "cell_type": "code",
      "source": [
        "import time\n",
        "\n",
        "input_text = \"Nepal stretches\"\n",
        "for i in range(25):\n",
        "  output_text = prediction(model, input_text, vocab)\n",
        "\n",
        "  print(output_text)\n",
        "\n",
        "  input_text = output_text\n",
        "  time.sleep(1)"
      ],
      "metadata": {
        "colab": {
          "base_uri": "https://localhost:8080/"
        },
        "id": "eeC64GcyP3d8",
        "outputId": "ed211489-5c6c-4bef-9dfa-1d8e2fb15ae4"
      },
      "execution_count": 293,
      "outputs": [
        {
          "output_type": "stream",
          "name": "stdout",
          "text": [
            "Nepal stretches approximately\n",
            "Nepal stretches approximately 147,516\n",
            "Nepal stretches approximately 147,516 square\n",
            "Nepal stretches approximately 147,516 square kilometers\n",
            "Nepal stretches approximately 147,516 square kilometers,\n",
            "Nepal stretches approximately 147,516 square kilometers, lying\n",
            "Nepal stretches approximately 147,516 square kilometers, lying along\n",
            "Nepal stretches approximately 147,516 square kilometers, lying along the\n",
            "Nepal stretches approximately 147,516 square kilometers, lying along the southern\n",
            "Nepal stretches approximately 147,516 square kilometers, lying along the southern slopes\n",
            "Nepal stretches approximately 147,516 square kilometers, lying along the southern slopes of\n",
            "Nepal stretches approximately 147,516 square kilometers, lying along the southern slopes of the\n",
            "Nepal stretches approximately 147,516 square kilometers, lying along the southern slopes of the himalayan\n",
            "Nepal stretches approximately 147,516 square kilometers, lying along the southern slopes of the himalayan mountain\n",
            "Nepal stretches approximately 147,516 square kilometers, lying along the southern slopes of the himalayan mountain ranges\n",
            "Nepal stretches approximately 147,516 square kilometers, lying along the southern slopes of the himalayan mountain ranges.\n",
            "Nepal stretches approximately 147,516 square kilometers, lying along the southern slopes of the himalayan mountain ranges. the\n",
            "Nepal stretches approximately 147,516 square kilometers, lying along the southern slopes of the himalayan mountain ranges. the country\n",
            "Nepal stretches approximately 147,516 square kilometers, lying along the southern slopes of the himalayan mountain ranges. the country is\n",
            "Nepal stretches approximately 147,516 square kilometers, lying along the southern slopes of the himalayan mountain ranges. the country is roughly\n",
            "Nepal stretches approximately 147,516 square kilometers, lying along the southern slopes of the himalayan mountain ranges. the country is roughly rectangular\n",
            "Nepal stretches approximately 147,516 square kilometers, lying along the southern slopes of the himalayan mountain ranges. the country is roughly rectangular in\n",
            "Nepal stretches approximately 147,516 square kilometers, lying along the southern slopes of the himalayan mountain ranges. the country is roughly rectangular in shape\n",
            "Nepal stretches approximately 147,516 square kilometers, lying along the southern slopes of the himalayan mountain ranges. the country is roughly rectangular in shape and\n",
            "Nepal stretches approximately 147,516 square kilometers, lying along the southern slopes of the himalayan mountain ranges. the country is roughly rectangular in shape and can\n"
          ]
        }
      ]
    },
    {
      "cell_type": "code",
      "source": [
        "#logic\n",
        "print(list(vocab.keys())[45])"
      ],
      "metadata": {
        "colab": {
          "base_uri": "https://localhost:8080/"
        },
        "id": "-eAc_8TN-9BA",
        "outputId": "bae8ec1d-85a0-4604-bf5b-a9074e56bd89"
      },
      "execution_count": 294,
      "outputs": [
        {
          "output_type": "stream",
          "name": "stdout",
          "text": [
            "diversity\n"
          ]
        }
      ]
    },
    {
      "cell_type": "code",
      "source": [
        "!git clone https://github.com/ajheshbasnet/LSTM-NextWord.git"
      ],
      "metadata": {
        "colab": {
          "base_uri": "https://localhost:8080/"
        },
        "id": "Dy0tjpcSYR66",
        "outputId": "dcb16b06-90ee-48da-8b53-88f2bf3c5d77"
      },
      "execution_count": 297,
      "outputs": [
        {
          "output_type": "stream",
          "name": "stdout",
          "text": [
            "Cloning into 'LSTM-NextWord'...\n",
            "warning: You appear to have cloned an empty repository.\n"
          ]
        }
      ]
    },
    {
      "cell_type": "code",
      "source": [
        "!mv /content/NextWordPredictor.ipynb /content/LSTM-QNA/\n"
      ],
      "metadata": {
        "colab": {
          "base_uri": "https://localhost:8080/"
        },
        "id": "7Sf37vkOa5ST",
        "outputId": "98dec6bb-9d7d-4dbd-b789-e9e65df719c5"
      },
      "execution_count": 298,
      "outputs": [
        {
          "output_type": "stream",
          "name": "stdout",
          "text": [
            "mv: cannot stat '/content/NextWordPredictor.ipynb': No such file or directory\n"
          ]
        }
      ]
    },
    {
      "cell_type": "code",
      "source": [],
      "metadata": {
        "id": "Ql57TWgtccLE"
      },
      "execution_count": null,
      "outputs": []
    }
  ]
}
